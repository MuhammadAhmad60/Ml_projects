{
 "cells": [
  {
   "cell_type": "code",
   "execution_count": 4,
   "id": "33ac08e6",
   "metadata": {},
   "outputs": [],
   "source": [
    "import keyword"
   ]
  },
  {
   "cell_type": "code",
   "execution_count": 5,
   "id": "be10d35c",
   "metadata": {},
   "outputs": [
    {
     "name": "stdout",
     "output_type": "stream",
     "text": [
      "['False', 'None', 'True', 'and', 'as', 'assert', 'async', 'await', 'break', 'class', 'continue', 'def', 'del', 'elif', 'else', 'except', 'finally', 'for', 'from', 'global', 'if', 'import', 'in', 'is', 'lambda', 'nonlocal', 'not', 'or', 'pass', 'raise', 'return', 'try', 'while', 'with', 'yield']\n",
      "the total numbers of keywords are  35\n"
     ]
    }
   ],
   "source": [
    "print(keyword.kwlist)\n",
    "print(\"the total numbers of keywords are \" , len(keyword.kwlist))"
   ]
  },
  {
   "cell_type": "code",
   "execution_count": 17,
   "id": "8d8aa6d3",
   "metadata": {},
   "outputs": [],
   "source": [
    "x = 5;\n",
    "y = \"Telphone\";\n",
    "z = ['My name is ahmed and my age is 25'];"
   ]
  },
  {
   "cell_type": "code",
   "execution_count": 18,
   "id": "6af2defd",
   "metadata": {},
   "outputs": [
    {
     "name": "stdout",
     "output_type": "stream",
     "text": [
      "5\n"
     ]
    }
   ],
   "source": [
    "print(x)"
   ]
  },
  {
   "cell_type": "code",
   "execution_count": 8,
   "id": "b4b79eef",
   "metadata": {},
   "outputs": [
    {
     "name": "stdout",
     "output_type": "stream",
     "text": [
      "11754024\n"
     ]
    }
   ],
   "source": [
    "print(id(x))"
   ]
  },
  {
   "cell_type": "code",
   "execution_count": 13,
   "id": "c0c35fec",
   "metadata": {},
   "outputs": [
    {
     "name": "stdout",
     "output_type": "stream",
     "text": [
      "Telphone\n"
     ]
    }
   ],
   "source": [
    "print(y)"
   ]
  },
  {
   "cell_type": "code",
   "execution_count": 10,
   "id": "92864a98",
   "metadata": {},
   "outputs": [
    {
     "name": "stdout",
     "output_type": "stream",
     "text": [
      "140503182466096\n"
     ]
    }
   ],
   "source": [
    "print (id (y))"
   ]
  },
  {
   "cell_type": "code",
   "execution_count": 21,
   "id": "99443d01",
   "metadata": {},
   "outputs": [
    {
     "name": "stdout",
     "output_type": "stream",
     "text": [
      "<class 'int'>\n"
     ]
    }
   ],
   "source": [
    "print(type(x))"
   ]
  },
  {
   "cell_type": "code",
   "execution_count": 22,
   "id": "0abbef5f",
   "metadata": {},
   "outputs": [
    {
     "name": "stdout",
     "output_type": "stream",
     "text": [
      "<class 'str'>\n"
     ]
    }
   ],
   "source": [
    "print(type(y))"
   ]
  },
  {
   "cell_type": "code",
   "execution_count": 23,
   "id": "832f7a61",
   "metadata": {},
   "outputs": [
    {
     "name": "stdout",
     "output_type": "stream",
     "text": [
      "<class 'list'>\n"
     ]
    }
   ],
   "source": [
    "print(type(z))"
   ]
  },
  {
   "cell_type": "code",
   "execution_count": 28,
   "id": "d54e86d2",
   "metadata": {},
   "outputs": [
    {
     "name": "stdout",
     "output_type": "stream",
     "text": [
      "5\n",
      "4\n",
      "7\n",
      "8\n"
     ]
    }
   ],
   "source": [
    "subjects = ['maths','urdu', 'history', 'computer'];\n",
    "\n",
    "for i in range(4):\n",
    "    print(len(subjects[i]))"
   ]
  },
  {
   "cell_type": "code",
   "execution_count": null,
   "id": "2541f36e",
   "metadata": {},
   "outputs": [],
   "source": []
  },
  {
   "cell_type": "code",
   "execution_count": null,
   "id": "fd41de69",
   "metadata": {},
   "outputs": [],
   "source": []
  }
 ],
 "metadata": {
  "kernelspec": {
   "display_name": "Python 3 (ipykernel)",
   "language": "python",
   "name": "python3"
  },
  "language_info": {
   "codemirror_mode": {
    "name": "ipython",
    "version": 3
   },
   "file_extension": ".py",
   "mimetype": "text/x-python",
   "name": "python",
   "nbconvert_exporter": "python",
   "pygments_lexer": "ipython3",
   "version": "3.12.3"
  }
 },
 "nbformat": 4,
 "nbformat_minor": 5
}
